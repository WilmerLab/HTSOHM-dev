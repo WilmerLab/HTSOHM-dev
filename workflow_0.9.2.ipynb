{
 "cells": [
  {
   "cell_type": "code",
   "execution_count": 1,
   "metadata": {
    "collapsed": true
   },
   "outputs": [],
   "source": [
    "# HTSOHM workflow 0.9.1"
   ]
  },
  {
   "cell_type": "markdown",
   "metadata": {},
   "source": [
    "This notebook takes a user through the process of generating a seed population of hypothetical porous materials and successively mutating libraries of said materials until the method as converged--that is the structure-property space has been sufficiently uniformly sampled."
   ]
  },
  {
   "cell_type": "code",
   "execution_count": 9,
   "metadata": {
    "collapsed": false
   },
   "outputs": [],
   "source": [
    "HTSOHM_dir = '~/HTSOHM-dev' #specifies HTSOHM directory\n",
    "\n",
    "import sys\n",
    "\n",
    "sys.path.insert(0, './bin') #adds HTSOHM modules to Python\n",
    "\n",
    "from generate import *\n",
    "from find_missing import *\n",
    "from binning import *\n",
    "from mutate import *\n",
    "\n",
    "%run ./bin/screen.ipy\n",
    "%run ./bin/cat_data.ipy\n",
    "%run ./bin/dummy_screen.ipy\n",
    "%run ./bin/dummy_test.ipy\n",
    "\n",
    "number_of_atom_types = 4\n",
    "number_of_materials = 20\n",
    "bins = 5\n",
    "mutation_strength = 0.2"
   ]
  },
  {
   "cell_type": "markdown",
   "metadata": {},
   "source": [
    "## Generate seed population "
   ]
  },
  {
   "cell_type": "markdown",
   "metadata": {},
   "source": [
    "Now that the number of atom-types and population size have been specified, the seed can be generated."
   ]
  },
  {
   "cell_type": "code",
   "execution_count": 4,
   "metadata": {
    "collapsed": false
   },
   "outputs": [],
   "source": [
    "generate(number_of_materials,\n",
    "         number_of_atom_types)"
   ]
  },
  {
   "cell_type": "markdown",
   "metadata": {
    "collapsed": false
   },
   "source": [
    "## Screen seed"
   ]
  },
  {
   "cell_type": "markdown",
   "metadata": {},
   "source": [
    "Now that the seed population has been generated, each material can then be screened using RASPA. Because the number of materials is typically large, the work is distributed across a computing cluster. For each material methane loading (see `${HTSOHM}/bin/ch4simNOHVF` for RASPA input file), void fraction (see `${HTSOHM}/bin/HVsim`), and surface area (see `${HTSOHM}/bin/SAsim`) is calculated. Raw data will be saved in `${HTSOHM}/data/`."
   ]
  },
  {
   "cell_type": "markdown",
   "metadata": {},
   "source": [
    "<b>DEV NOTE: ln 17, screen.sh<br>\n",
    "`export HTSOHM_DIR=${HOME}/HTSOHM-dev`<br>\n",
    "`export LIB_DIR=${HOME}/HTSOHM-dev/$LIBRARY_DIR`'<br>\n",
    "\n",
    "ALSO MATS PER CORE REDUCED FROM 100 TO 20"
   ]
  },
  {
   "cell_type": "code",
   "execution_count": 5,
   "metadata": {
    "collapsed": false,
    "scrolled": true
   },
   "outputs": [
    {
     "name": "stdout",
     "output_type": "stream",
     "text": [
      "/ihome/cwilmer/ark111/HTSOHM-dev/bin\n",
      "Preparing to submit jobs...\n",
      "See terminal for status.\n",
      "\n",
      "Jobs submitted!\n",
      "/ihome/cwilmer/ark111/HTSOHM-dev\n"
     ]
    }
   ],
   "source": [
    "screen(HTSOHM_dir, 'gen0', 0, number_of_materials)"
   ]
  },
  {
   "cell_type": "markdown",
   "metadata": {},
   "source": [
    "<font color=\"red\"><b>WAIT FOR JOBS."
   ]
  },
  {
   "cell_type": "markdown",
   "metadata": {
    "collapsed": false
   },
   "source": [
    "## Collect output"
   ]
  },
  {
   "cell_type": "markdown",
   "metadata": {},
   "source": [
    "Data for the entire library is now divided into different directories, one for each node used to carry out the calculations. All of this data is then collected into three files, one for each of the properties calculated: `ch4_abs_cc_cc.txt`, `HVdata2col.txt`, and `SAdata_m2_cc.txt`. These data files can be find found in `${HTSOHM}/data/` and the directory containing all materials from that library."
   ]
  },
  {
   "cell_type": "markdown",
   "metadata": {
    "collapsed": true
   },
   "source": [
    "<b>DEV NOTE: rmdata is commented out...<br>\n",
    "`find_missing` only checks names, not values"
   ]
  },
  {
   "cell_type": "code",
   "execution_count": 6,
   "metadata": {
    "collapsed": false
   },
   "outputs": [
    {
     "name": "stdout",
     "output_type": "stream",
     "text": [
      "/ihome/cwilmer/ark111/HTSOHM-dev/bin\n",
      "/ihome/cwilmer/ark111/HTSOHM-dev\n",
      "No missing data points!\n"
     ]
    },
    {
     "data": {
      "text/plain": [
       "([], [], [])"
      ]
     },
     "execution_count": 6,
     "metadata": {},
     "output_type": "execute_result"
    }
   ],
   "source": [
    "prep_gen0(HTSOHM_dir, number_of_materials)\n",
    "find_missing('gen0')"
   ]
  },
  {
   "cell_type": "markdown",
   "metadata": {},
   "source": [
    "# First generation "
   ]
  },
  {
   "cell_type": "markdown",
   "metadata": {},
   "source": [
    "## Bin library, select parents"
   ]
  },
  {
   "cell_type": "markdown",
   "metadata": {},
   "source": [
    "Now that structure-properties have been calculated for the seed population, the library can be binned--sorted in three dimensions: methane loading, surface area, and void fraction--so that those materials with the rarest combinations of structure properties can be selected to <i>parent</i> new materials."
   ]
  },
  {
   "cell_type": "code",
   "execution_count": 7,
   "metadata": {
    "collapsed": false
   },
   "outputs": [],
   "source": [
    "bin_count_gen0, bin_IDs_gen0 = bin3d('gen0', bins)\n",
    "\n",
    "p_list_gen0 = pick_parents('gen0',\n",
    "                           bin_count_gen0,\n",
    "                           bin_IDs_gen0,\n",
    "                           number_of_materials)"
   ]
  },
  {
   "cell_type": "markdown",
   "metadata": {},
   "source": [
    "## <i>Dummy</i> test"
   ]
  },
  {
   "cell_type": "markdown",
   "metadata": {},
   "source": [
    "Because properties are calculated using MC methods, it is possible that a partiular data point (combination of properties) seems to be unique, but is in fact a statistical anomaly. To deal with this, each parent is re-screened 5 times so that the results can be compared to the original calculation."
   ]
  },
  {
   "cell_type": "code",
   "execution_count": 8,
   "metadata": {
    "collapsed": false,
    "scrolled": true
   },
   "outputs": [
    {
     "name": "stdout",
     "output_type": "stream",
     "text": [
      "/ihome/cwilmer/ark111/HTSOHM-dev/bin\n",
      "Screening dummies...\n",
      "See terminal for status.\n",
      "\n",
      "Jobs submitted!\n",
      "/ihome/cwilmer/ark111/HTSOHM-dev\n"
     ]
    }
   ],
   "source": [
    "dummy_screen(HTSOHM_dir, 'gen0')"
   ]
  },
  {
   "cell_type": "markdown",
   "metadata": {},
   "source": [
    "<font color=\"red\"><b>WAIT FOR JOBS."
   ]
  },
  {
   "cell_type": "code",
   "execution_count": null,
   "metadata": {
    "collapsed": false,
    "scrolled": true
   },
   "outputs": [],
   "source": [
    "dummy_test(HTSOHM_dir, 'gen0')"
   ]
  },
  {
   "cell_type": "markdown",
   "metadata": {},
   "source": [
    "## Mutate `gen0`, create `gen1`"
   ]
  },
  {
   "cell_type": "code",
   "execution_count": null,
   "metadata": {
    "collapsed": false,
    "scrolled": true
   },
   "outputs": [],
   "source": [
    "gen = 1                                  \n",
    "\n",
    "\n",
    "\n",
    "\n",
    "\n",
    "\n",
    "\n",
    "\n",
    "p_dir = 'gen' + str(gen - 1)\n",
    "c_dir = 'gen' + str(gen)\n",
    "l_dir = 'tgen' + str(gen)\n",
    "\n",
    "firstS('gen0', mutation_strength, bins)\n",
    "mutate('gen0', number_of_atom_types, 'gen1')"
   ]
  },
  {
   "cell_type": "markdown",
   "metadata": {},
   "source": [
    "## Screen `gen1`"
   ]
  },
  {
   "cell_type": "code",
   "execution_count": null,
   "metadata": {
    "collapsed": false,
    "scrolled": true
   },
   "outputs": [],
   "source": [
    "screen(HTSOHM_dir,\n",
    "       'gen1',\n",
    "       1 * number_of_materials,\n",
    "       number_of_materials)"
   ]
  },
  {
   "cell_type": "markdown",
   "metadata": {},
   "source": [
    "## Collect `gen1` output"
   ]
  },
  {
   "cell_type": "code",
   "execution_count": null,
   "metadata": {
    "collapsed": false,
    "scrolled": true
   },
   "outputs": [],
   "source": [
    "prep4mut(HTSOHM_dir,\n",
    "         'gen1',\n",
    "         1 * number_of_materials,\n",
    "         number_of_materials,\n",
    "         'gen0',\n",
    "         'tgen1')\n",
    "\n",
    "find_missing('tgen1')"
   ]
  },
  {
   "cell_type": "markdown",
   "metadata": {},
   "source": [
    "## Bin `tgen1`, select parents "
   ]
  },
  {
   "cell_type": "code",
   "execution_count": null,
   "metadata": {
    "collapsed": false,
    "scrolled": true
   },
   "outputs": [],
   "source": [
    "from binning import *\n",
    "\n",
    "p_dir = 'tgen1'\n",
    "n_child = number_of_materials\n",
    "\n",
    "bin_count, bin_IDs = bin3d(p_dir, bins)\n",
    "\n",
    "p_list_tgen1 = pick_parents(p_dir,\n",
    "                           bin_count,\n",
    "                           bin_IDs,\n",
    "                           n_child)"
   ]
  },
  {
   "cell_type": "markdown",
   "metadata": {},
   "source": [
    "## `tgen1` dummy test"
   ]
  },
  {
   "cell_type": "code",
   "execution_count": null,
   "metadata": {
    "collapsed": false,
    "scrolled": true
   },
   "outputs": [],
   "source": [
    "%run ./bin/dummy_screen.ipy\n",
    "\n",
    "dummy_screen(HTSOHM_dir, 'tgen1')"
   ]
  },
  {
   "cell_type": "code",
   "execution_count": null,
   "metadata": {
    "collapsed": false,
    "scrolled": true
   },
   "outputs": [],
   "source": [
    "%run ./bin/dummy_test.ipy\n",
    "\n",
    "dummy_test(HTSOHM_dir, 'tgen1')"
   ]
  },
  {
   "cell_type": "markdown",
   "metadata": {},
   "source": [
    "# Second generation"
   ]
  },
  {
   "cell_type": "markdown",
   "metadata": {},
   "source": [
    "## Calculate mutation strength(s), create `gen2`"
   ]
  },
  {
   "cell_type": "code",
   "execution_count": null,
   "metadata": {
    "collapsed": false,
    "scrolled": true
   },
   "outputs": [],
   "source": [
    "from mutate import *\n",
    "\n",
    "calc_S('tgen1', bins)\n",
    "mutate('tgen1', number_of_atom_types, 'gen2')"
   ]
  },
  {
   "cell_type": "markdown",
   "metadata": {
    "collapsed": true
   },
   "source": [
    "## Screen `gen2`"
   ]
  },
  {
   "cell_type": "code",
   "execution_count": null,
   "metadata": {
    "collapsed": false
   },
   "outputs": [],
   "source": [
    "%run ./bin/screen.ipy\n",
    "\n",
    "screen(HTSOHM_dir,\n",
    "       'gen2',\n",
    "       2 * number_of_materials,\n",
    "       number_of_materials)"
   ]
  },
  {
   "cell_type": "code",
   "execution_count": null,
   "metadata": {
    "collapsed": false,
    "scrolled": false
   },
   "outputs": [],
   "source": [
    "%run ./bin/cat_data.ipy\n",
    "from find_missing import *\n",
    "\n",
    "prep4mut(HTSOHM_dir,\n",
    "         'gen2',\n",
    "         2 * number_of_materials,\n",
    "         number_of_materials,\n",
    "         'gen1',\n",
    "         'tgen2')\n",
    "\n",
    "find_missing('tgen2')\n",
    "\n",
    "from binning import *\n",
    "\n",
    "p_dir = 'tgen2'\n",
    "n_child = number_of_materials\n",
    "\n",
    "bin_count, bin_IDs = bin3d(p_dir, bins)\n",
    "\n",
    "p_list_tgen2 = pick_parents(p_dir,\n",
    "                           bin_count,\n",
    "                           bin_IDs,\n",
    "                           n_child)\n",
    "\n",
    "%run ./bin/dummy_screen.ipy\n",
    "\n",
    "dummy_screen(HTSOHM_dir, 'tgen2')"
   ]
  },
  {
   "cell_type": "code",
   "execution_count": null,
   "metadata": {
    "collapsed": false
   },
   "outputs": [],
   "source": [
    "dummy_test(HTSOHM_dir, 'tgen2')                        # dummy test, check output\n",
    "\n",
    "firstS('tgen2', mutation_strength, bins)               # set mutation strength(s)\n",
    "mutate('gen2', number_of_atom_types, 'gen3')          # mutate gen0, create gen1\n",
    "\n",
    "screen(HTSOHM_dir, 'gen3', 3 * number_of_materials,   # screen gen1\n",
    "       number_of_materials)\n"
   ]
  },
  {
   "cell_type": "code",
   "execution_count": null,
   "metadata": {
    "collapsed": true
   },
   "outputs": [],
   "source": []
  }
 ],
 "metadata": {
  "kernelspec": {
   "display_name": "Python 3",
   "language": "python",
   "name": "python3"
  },
  "language_info": {
   "codemirror_mode": {
    "name": "ipython",
    "version": 3
   },
   "file_extension": ".py",
   "mimetype": "text/x-python",
   "name": "python",
   "nbconvert_exporter": "python",
   "pygments_lexer": "ipython3",
   "version": "3.5.1"
  }
 },
 "nbformat": 4,
 "nbformat_minor": 0
}
