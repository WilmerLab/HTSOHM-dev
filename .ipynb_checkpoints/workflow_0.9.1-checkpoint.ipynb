{
 "cells": [
  {
   "cell_type": "markdown",
   "metadata": {},
   "source": [
    "# HTSOHM workflow 0.9.1"
   ]
  },
  {
   "cell_type": "markdown",
   "metadata": {},
   "source": [
    "This notebook takes a user through the process of generating a seed population of hypothetical porous materials and successively mutating libraries of said materials until the method as converged--that is the structure-property space has been sufficiently uniformly sampled."
   ]
  },
  {
   "cell_type": "code",
   "execution_count": 1,
   "metadata": {
    "collapsed": true
   },
   "outputs": [],
   "source": [
    "HTSOHM_dir = '~/HTSOHM-dev' #specifies HTSOHM directory\n",
    "import sys\n",
    "sys.path.insert(0, './bin') #adds HTSOHM modules to Python\n",
    "\n",
    "number_of_atom_types = 4\n",
    "number_of_materials = 50\n",
    "\n",
    "bins = 5"
   ]
  },
  {
   "cell_type": "markdown",
   "metadata": {},
   "source": [
    "## Generate seed population "
   ]
  },
  {
   "cell_type": "markdown",
   "metadata": {},
   "source": [
    "Now that the number of atom-types and population size have been specified, the seed can be generated."
   ]
  },
  {
   "cell_type": "code",
   "execution_count": null,
   "metadata": {
    "collapsed": false
   },
   "outputs": [],
   "source": [
    "from generate import *\n",
    "\n",
    "generate(number_of_materials,\n",
    "         number_of_atom_types)"
   ]
  },
  {
   "cell_type": "markdown",
   "metadata": {
    "collapsed": false
   },
   "source": [
    "## Screen seed"
   ]
  },
  {
   "cell_type": "markdown",
   "metadata": {},
   "source": [
    "Now that the seed population has been generated, each material can then be screened using RASPA. Because the number of materials is typically large, the work is distributed across a computing cluster. For each material methane loading (see `${HTSOHM}/bin/ch4simNOHVF` for RASPA input file), void fraction (see `${HTSOHM}/bin/HVsim`), and surface area (see `${HTSOHM}/bin/SAsim`) is calculated. Raw data will be saved in `${HTSOHM}/data/`."
   ]
  },
  {
   "cell_type": "markdown",
   "metadata": {},
   "source": [
    "<b>DEV NOTE: ln 17, screen.sh<br>\n",
    "`export HTSOHM_DIR=${HOME}/HTSOHM-dev`<br>\n",
    "`export LIB_DIR=${HOME}/HTSOHM-dev/$LIBRARY_DIR`'<br>\n",
    "\n",
    "ALSO MATS PER CORE REDUCED FROM 100 TO 20"
   ]
  },
  {
   "cell_type": "code",
   "execution_count": null,
   "metadata": {
    "collapsed": false,
    "scrolled": true
   },
   "outputs": [],
   "source": [
    "%run ./bin/screen.ipy\n",
    "\n",
    "screen(HTSOHM_dir, 'gen0', 0, number_of_materials)"
   ]
  },
  {
   "cell_type": "markdown",
   "metadata": {
    "collapsed": false
   },
   "source": [
    "## Collect output"
   ]
  },
  {
   "cell_type": "markdown",
   "metadata": {},
   "source": [
    "Data for the entire library is now divided into different directories, one for each node used to carry out the calculations. All of this data is then collected into three files, one for each of the properties calculated: `ch4_abs_cc_cc.txt`, `HVdata2col.txt`, and `SAdata_m2_cc.txt`. These data files can be find found in `${HTSOHM}/data/` and the directory containing all materials from that library."
   ]
  },
  {
   "cell_type": "markdown",
   "metadata": {
    "collapsed": true
   },
   "source": [
    "<b>DEV NOTE: rmdata is commented out...<br>\n",
    "`find_missing` only checks names, not values"
   ]
  },
  {
   "cell_type": "code",
   "execution_count": null,
   "metadata": {
    "collapsed": false
   },
   "outputs": [],
   "source": [
    "%run ./bin/cat_data.ipy\n",
    "from find_missing import *\n",
    "\n",
    "prep_gen0(HTSOHM_dir, number_of_materials)\n",
    "find_missing('gen0')"
   ]
  },
  {
   "cell_type": "markdown",
   "metadata": {},
   "source": [
    "## Bin library, select parents"
   ]
  },
  {
   "cell_type": "markdown",
   "metadata": {},
   "source": [
    "Now that structure-properties have been calculated for the seed population, the library can be binned--sorted in three dimensions: methane loading, surface area, and void fraction--so that those materials with the rarest combinations of structure properties can be selected to <i>parent</i> new materials."
   ]
  },
  {
   "cell_type": "code",
   "execution_count": null,
   "metadata": {
    "collapsed": false
   },
   "outputs": [],
   "source": [
    "from binning import *\n",
    "\n",
    "p_dir = 'gen0'\n",
    "#bins = 5\n",
    "n_child = number_of_materials\n",
    "\n",
    "bin_count_gen0, bin_IDs_gen0 = bin3d('gen0', bins)\n",
    "\n",
    "p_list_gen0 = pick_parents('gen0',\n",
    "                           bin_count_gen0,\n",
    "                           bin_IDs_gen0,\n",
    "                           n_child)"
   ]
  },
  {
   "cell_type": "markdown",
   "metadata": {},
   "source": [
    "## <i>Dummy</i> test"
   ]
  },
  {
   "cell_type": "markdown",
   "metadata": {},
   "source": [
    "Because properties are calculated using MC methods, it is possible that a partiular data point (combination of properties) seems to be unique, but is in fact a statistical anomaly. To deal with this, each parent is re-screened 5 times so that the results can be compared to the original calculation."
   ]
  },
  {
   "cell_type": "code",
   "execution_count": null,
   "metadata": {
    "collapsed": false,
    "scrolled": true
   },
   "outputs": [],
   "source": [
    "%run ./bin/dummy_screen.ipy\n",
    "\n",
    "dummy_screen(HTSOHM_dir, 'gen0')"
   ]
  },
  {
   "cell_type": "markdown",
   "metadata": {},
   "source": [
    "<b>DEV NOTE: add find missing step???"
   ]
  },
  {
   "cell_type": "code",
   "execution_count": null,
   "metadata": {
    "collapsed": false,
    "scrolled": true
   },
   "outputs": [],
   "source": [
    "%run ./bin/dummy_test.ipy\n",
    "\n",
    "dummy_test(HTSOHM_dir, 'gen0')"
   ]
  },
  {
   "cell_type": "markdown",
   "metadata": {},
   "source": [
    "# First generation "
   ]
  },
  {
   "cell_type": "markdown",
   "metadata": {},
   "source": [
    "## Mutate `gen0`, create `gen1`"
   ]
  },
  {
   "cell_type": "code",
   "execution_count": null,
   "metadata": {
    "collapsed": false,
    "scrolled": true
   },
   "outputs": [],
   "source": [
    "mutation_strength = 0.2\n",
    "\n",
    "from mutate import *\n",
    "\n",
    "firstS('gen0', mutation_strength)\n",
    "mutate('gen0', number_of_atom_types, 'gen1')"
   ]
  },
  {
   "cell_type": "markdown",
   "metadata": {},
   "source": [
    "## Screen `gen1`"
   ]
  },
  {
   "cell_type": "code",
   "execution_count": null,
   "metadata": {
    "collapsed": false,
    "scrolled": true
   },
   "outputs": [],
   "source": [
    "%run ./bin/screen.ipy\n",
    "\n",
    "screen(HTSOHM_dir,\n",
    "       'gen1',\n",
    "       1 * number_of_materials,\n",
    "       number_of_materials)"
   ]
  },
  {
   "cell_type": "markdown",
   "metadata": {},
   "source": [
    "## Collect `gen1` output"
   ]
  },
  {
   "cell_type": "code",
   "execution_count": null,
   "metadata": {
    "collapsed": false,
    "scrolled": true
   },
   "outputs": [],
   "source": [
    "%run ./bin/cat_data.ipy\n",
    "from find_missing import *\n",
    "\n",
    "prep4mut(HTSOHM_dir,\n",
    "         'gen1',\n",
    "         1 * number_of_materials,\n",
    "         number_of_materials,\n",
    "         'gen0',\n",
    "         'tgen1')\n",
    "\n",
    "find_missing('tgen1')"
   ]
  },
  {
   "cell_type": "markdown",
   "metadata": {},
   "source": [
    "## Bin `tgen1`, select parents "
   ]
  },
  {
   "cell_type": "code",
   "execution_count": 2,
   "metadata": {
    "collapsed": false,
    "scrolled": true
   },
   "outputs": [],
   "source": [
    "from binning import *\n",
    "\n",
    "p_dir = 'tgen1'\n",
    "n_child = number_of_materials\n",
    "\n",
    "bin_count, bin_IDs = bin3d(p_dir, bins)\n",
    "\n",
    "p_list_tgen1 = pick_parents(p_dir,\n",
    "                           bin_count,\n",
    "                           bin_IDs,\n",
    "                           n_child)"
   ]
  },
  {
   "cell_type": "markdown",
   "metadata": {},
   "source": [
    "## `tgen1` dummy test"
   ]
  },
  {
   "cell_type": "code",
   "execution_count": 3,
   "metadata": {
    "collapsed": false,
    "scrolled": true
   },
   "outputs": [
    {
     "name": "stdout",
     "output_type": "stream",
     "text": [
      "/ihome/cwilmer/ark111/HTSOHM-dev/bin\n",
      "Screening dummies...\n",
      "See terminal for status.\n",
      "\n",
      "Jobs submitted!\n",
      "/ihome/cwilmer/ark111/HTSOHM-dev\n"
     ]
    }
   ],
   "source": [
    "%run ./bin/dummy_screen.ipy\n",
    "\n",
    "dummy_screen(HTSOHM_dir, 'tgen1')"
   ]
  },
  {
   "cell_type": "code",
   "execution_count": null,
   "metadata": {
    "collapsed": true
   },
   "outputs": [],
   "source": [
    "%run ./bin/dummy_test.ipy\n",
    "\n",
    "dummy_test(HTSOHM_dir, 'tgen1')"
   ]
  },
  {
   "cell_type": "markdown",
   "metadata": {},
   "source": [
    "# Second generation"
   ]
  },
  {
   "cell_type": "markdown",
   "metadata": {},
   "source": [
    "## Calculate mutation strength(s)"
   ]
  },
  {
   "cell_type": "code",
   "execution_count": 48,
   "metadata": {
    "collapsed": false,
    "scrolled": true
   },
   "outputs": [],
   "source": [
    "import numpy as np\n",
    "import os\n",
    "from binning import *\n",
    "\n",
    "p_dir = 'tgen1'\n",
    "gp_dir = 'gen' + str(int(p_dir[-1]) - 1)\n",
    "#bins <---input variable\n",
    "\n",
    "#def calc_S(p_dir):\n",
    "\n",
    "s_0 = np.genfromtxt('gen0/s_list.txt', usecols=0, dtype=float)\n",
    "s0 = s_0[0]\n",
    "\n",
    "p_list = np.genfromtxt(p_dir + '/p_list.txt', usecols=0, dtype=str)\n",
    "p_As = np.genfromtxt(p_dir + '/p_list.txt', usecols=1,\n",
    "                       dtype=str)\n",
    "p_Bs = np.genfromtxt(p_dir + '/p_list.txt', usecols=2,\n",
    "                       dtype=str)\n",
    "p_Cs = np.genfromtxt(p_dir + '/p_list.txt', usecols=3,\n",
    "                       dtype=str)\n",
    "\n",
    "p_bins = []\n",
    "for i in range(len(p_As)):\n",
    "    pos = [int(p_As[i][1:-1]),\n",
    "           int(p_Bs[i][:-1]),\n",
    "           int(p_Cs[i][:-1])]\n",
    "    p_bins.append(pos)\n",
    "\n",
    "gp_list = np.genfromtxt(gp_dir + '/p_list.txt', usecols=0, dtype=str)\n",
    "gp_As = np.genfromtxt(gp_dir + '/p_list.txt', usecols=1,\n",
    "                       dtype=str)\n",
    "gp_Bs = np.genfromtxt(gp_dir + '/p_list.txt', usecols=2,\n",
    "                       dtype=str)\n",
    "gp_Cs = np.genfromtxt(gp_dir + '/p_list.txt', usecols=3,\n",
    "                       dtype=str)\n",
    "\n",
    "gp_bins = []\n",
    "for i in range(len(gp_As)):\n",
    "    pos = [int(gp_As[i][1:-1]),\n",
    "           int(gp_Bs[i][:-1]),\n",
    "           int(gp_Cs[i][:-1])]\n",
    "    gp_bins.append(pos)\n",
    "\n",
    "gp_s = np.genfromtxt(gp_dir + '/s_list.txt')\n",
    "\n",
    "s_file = open(os.path.abspath(p_dir) + '/s_list.txt', 'w')\n",
    "\n",
    "bin_list = []\n",
    "for i in p_bins:\n",
    "    if i in gp_bins:\n",
    "        if i not in bin_list:\n",
    "            bin_list.append(i)\n",
    "            \n",
    "skip = len(gp_dir) + 1\n",
    "names = [x[0][skip:] for x in os.walk(gp_dir)][1:]\n",
    "n_gp = len(names)\n",
    "\n",
    "p_children = []\n",
    "\n",
    "for i in range(len(gp_list)):\n",
    "    if gp_bins[i] in bin_list:\n",
    "        p_children.append('MAT-' + str(i))\n",
    "\n",
    "#p_ID_array = bin3d('tgen1,' bins)\n",
    "\n",
    "\n"
   ]
  },
  {
   "cell_type": "code",
   "execution_count": 49,
   "metadata": {
    "collapsed": false
   },
   "outputs": [
    {
     "name": "stdout",
     "output_type": "stream",
     "text": [
      "['MAT-2', 'MAT-4', 'MAT-5', 'MAT-6', 'MAT-7', 'MAT-8', 'MAT-9', 'MAT-12', 'MAT-15', 'MAT-16', 'MAT-17', 'MAT-19', 'MAT-20', 'MAT-24', 'MAT-27', 'MAT-28', 'MAT-33', 'MAT-34', 'MAT-36', 'MAT-37', 'MAT-38', 'MAT-39', 'MAT-40', 'MAT-41', 'MAT-42', 'MAT-43', 'MAT-45', 'MAT-46', 'MAT-48']\n"
     ]
    }
   ],
   "source": [
    "print(p_children)"
   ]
  },
  {
   "cell_type": "markdown",
   "metadata": {},
   "source": [
    "## Mutate `tgen1`, create `gen2`"
   ]
  },
  {
   "cell_type": "code",
   "execution_count": null,
   "metadata": {
    "collapsed": true
   },
   "outputs": [],
   "source": [
    "mutation_strength = 0.2\n",
    "\n",
    "from mutate import *\n",
    "\n",
    "firstS('gen0', mutation_strength)\n",
    "mutate('gen0', number_of_atom_types, 'gen1')"
   ]
  }
 ],
 "metadata": {
  "kernelspec": {
   "display_name": "Python 3",
   "language": "python",
   "name": "python3"
  },
  "language_info": {
   "codemirror_mode": {
    "name": "ipython",
    "version": 3
   },
   "file_extension": ".py",
   "mimetype": "text/x-python",
   "name": "python",
   "nbconvert_exporter": "python",
   "pygments_lexer": "ipython3",
   "version": "3.5.1"
  }
 },
 "nbformat": 4,
 "nbformat_minor": 0
}
