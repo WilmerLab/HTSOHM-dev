{
 "cells": [
  {
   "cell_type": "code",
   "execution_count": null,
   "metadata": {
    "collapsed": true
   },
   "outputs": [],
   "source": [
    "# HTSOHM workflow 0.9.1"
   ]
  },
  {
   "cell_type": "markdown",
   "metadata": {},
   "source": [
    "This notebook takes a user through the process of generating a seed population of hypothetical porous materials and successively mutating libraries of said materials until the method as converged--that is the structure-property space has been sufficiently uniformly sampled."
   ]
  },
  {
   "cell_type": "code",
   "execution_count": 1,
   "metadata": {
    "collapsed": true
   },
   "outputs": [],
   "source": [
    "HTSOHM_dir = '~/HTSOHM-dev' #specifies HTSOHM directory\n",
    "import sys\n",
    "sys.path.insert(0, './bin') #adds HTSOHM modules to Python\n",
    "\n",
    "number_of_atom_types = 4\n",
    "number_of_materials = 50\n",
    "\n",
    "bins = 5"
   ]
  },
  {
   "cell_type": "markdown",
   "metadata": {},
   "source": [
    "## Generate seed population "
   ]
  },
  {
   "cell_type": "markdown",
   "metadata": {},
   "source": [
    "Now that the number of atom-types and population size have been specified, the seed can be generated."
   ]
  },
  {
   "cell_type": "code",
   "execution_count": null,
   "metadata": {
    "collapsed": false
   },
   "outputs": [],
   "source": [
    "from generate import *\n",
    "\n",
    "generate(number_of_materials,\n",
    "         number_of_atom_types)"
   ]
  },
  {
   "cell_type": "markdown",
   "metadata": {
    "collapsed": false
   },
   "source": [
    "## Screen seed"
   ]
  },
  {
   "cell_type": "markdown",
   "metadata": {},
   "source": [
    "Now that the seed population has been generated, each material can then be screened using RASPA. Because the number of materials is typically large, the work is distributed across a computing cluster. For each material methane loading (see `${HTSOHM}/bin/ch4simNOHVF` for RASPA input file), void fraction (see `${HTSOHM}/bin/HVsim`), and surface area (see `${HTSOHM}/bin/SAsim`) is calculated. Raw data will be saved in `${HTSOHM}/data/`."
   ]
  },
  {
   "cell_type": "markdown",
   "metadata": {},
   "source": [
    "<b>DEV NOTE: ln 17, screen.sh<br>\n",
    "`export HTSOHM_DIR=${HOME}/HTSOHM-dev`<br>\n",
    "`export LIB_DIR=${HOME}/HTSOHM-dev/$LIBRARY_DIR`'<br>\n",
    "\n",
    "ALSO MATS PER CORE REDUCED FROM 100 TO 20"
   ]
  },
  {
   "cell_type": "code",
   "execution_count": null,
   "metadata": {
    "collapsed": false,
    "scrolled": true
   },
   "outputs": [],
   "source": [
    "%run ./bin/screen.ipy\n",
    "\n",
    "screen(HTSOHM_dir, 'gen0', 0, number_of_materials)"
   ]
  },
  {
   "cell_type": "markdown",
   "metadata": {
    "collapsed": false
   },
   "source": [
    "## Collect output"
   ]
  },
  {
   "cell_type": "markdown",
   "metadata": {},
   "source": [
    "Data for the entire library is now divided into different directories, one for each node used to carry out the calculations. All of this data is then collected into three files, one for each of the properties calculated: `ch4_abs_cc_cc.txt`, `HVdata2col.txt`, and `SAdata_m2_cc.txt`. These data files can be find found in `${HTSOHM}/data/` and the directory containing all materials from that library."
   ]
  },
  {
   "cell_type": "markdown",
   "metadata": {
    "collapsed": true
   },
   "source": [
    "<b>DEV NOTE: rmdata is commented out...<br>\n",
    "`find_missing` only checks names, not values"
   ]
  },
  {
   "cell_type": "code",
   "execution_count": null,
   "metadata": {
    "collapsed": false
   },
   "outputs": [],
   "source": [
    "%run ./bin/cat_data.ipy\n",
    "from find_missing import *\n",
    "\n",
    "prep_gen0(HTSOHM_dir, number_of_materials)\n",
    "find_missing('gen0')"
   ]
  },
  {
   "cell_type": "markdown",
   "metadata": {},
   "source": [
    "## Bin library, select parents"
   ]
  },
  {
   "cell_type": "markdown",
   "metadata": {},
   "source": [
    "Now that structure-properties have been calculated for the seed population, the library can be binned--sorted in three dimensions: methane loading, surface area, and void fraction--so that those materials with the rarest combinations of structure properties can be selected to <i>parent</i> new materials."
   ]
  },
  {
   "cell_type": "code",
   "execution_count": null,
   "metadata": {
    "collapsed": false
   },
   "outputs": [],
   "source": [
    "from binning import *\n",
    "\n",
    "p_dir = 'gen0'\n",
    "#bins = 5\n",
    "n_child = number_of_materials\n",
    "\n",
    "bin_count_gen0, bin_IDs_gen0 = bin3d('gen0', bins)\n",
    "\n",
    "p_list_gen0 = pick_parents('gen0',\n",
    "                           bin_count_gen0,\n",
    "                           bin_IDs_gen0,\n",
    "                           n_child)"
   ]
  },
  {
   "cell_type": "markdown",
   "metadata": {},
   "source": [
    "## <i>Dummy</i> test"
   ]
  },
  {
   "cell_type": "markdown",
   "metadata": {},
   "source": [
    "Because properties are calculated using MC methods, it is possible that a partiular data point (combination of properties) seems to be unique, but is in fact a statistical anomaly. To deal with this, each parent is re-screened 5 times so that the results can be compared to the original calculation."
   ]
  },
  {
   "cell_type": "code",
   "execution_count": null,
   "metadata": {
    "collapsed": false,
    "scrolled": true
   },
   "outputs": [],
   "source": [
    "%run ./bin/dummy_screen.ipy\n",
    "\n",
    "dummy_screen(HTSOHM_dir, 'gen0')"
   ]
  },
  {
   "cell_type": "markdown",
   "metadata": {},
   "source": [
    "<b>DEV NOTE: add find missing step???"
   ]
  },
  {
   "cell_type": "code",
   "execution_count": null,
   "metadata": {
    "collapsed": false,
    "scrolled": true
   },
   "outputs": [],
   "source": [
    "%run ./bin/dummy_test.ipy\n",
    "\n",
    "dummy_test(HTSOHM_dir, 'gen0')"
   ]
  },
  {
   "cell_type": "markdown",
   "metadata": {},
   "source": [
    "# First generation "
   ]
  },
  {
   "cell_type": "markdown",
   "metadata": {},
   "source": [
    "## Mutate `gen0`, create `gen1`"
   ]
  },
  {
   "cell_type": "code",
   "execution_count": 2,
   "metadata": {
    "collapsed": false,
    "scrolled": true
   },
   "outputs": [
    {
     "name": "stdout",
     "output_type": "stream",
     "text": [
      "making 50 materials...\n",
      "...done!\n"
     ]
    }
   ],
   "source": [
    "mutation_strength = 0.2\n",
    "\n",
    "from mutate import *\n",
    "\n",
    "firstS('gen0', mutation_strength, bins)\n",
    "mutate('gen0', number_of_atom_types, 'gen1')"
   ]
  },
  {
   "cell_type": "markdown",
   "metadata": {},
   "source": [
    "## Screen `gen1`"
   ]
  },
  {
   "cell_type": "code",
   "execution_count": 3,
   "metadata": {
    "collapsed": false,
    "scrolled": true
   },
   "outputs": [
    {
     "name": "stdout",
     "output_type": "stream",
     "text": [
      "/ihome/cwilmer/ark111/HTSOHM-dev/bin\n",
      "Preparing to submit jobs...\n",
      "See terminal for status.\n",
      "\n",
      "Jobs submitted!\n",
      "/ihome/cwilmer/ark111/HTSOHM-dev\n"
     ]
    }
   ],
   "source": [
    "%run ./bin/screen.ipy\n",
    "\n",
    "screen(HTSOHM_dir,\n",
    "       'gen1',\n",
    "       1 * number_of_materials,\n",
    "       number_of_materials)"
   ]
  },
  {
   "cell_type": "markdown",
   "metadata": {},
   "source": [
    "## Collect `gen1` output"
   ]
  },
  {
   "cell_type": "code",
   "execution_count": 3,
   "metadata": {
    "collapsed": false,
    "scrolled": true
   },
   "outputs": [
    {
     "name": "stdout",
     "output_type": "stream",
     "text": [
      "/ihome/cwilmer/ark111/HTSOHM-dev/bin\n",
      "/ihome/cwilmer/ark111/HTSOHM-dev\n",
      "No missing data points!\n"
     ]
    },
    {
     "data": {
      "text/plain": [
       "([], [], [])"
      ]
     },
     "execution_count": 3,
     "metadata": {},
     "output_type": "execute_result"
    }
   ],
   "source": [
    "%run ./bin/cat_data.ipy\n",
    "from find_missing import *\n",
    "\n",
    "prep4mut(HTSOHM_dir,\n",
    "         'gen1',\n",
    "         1 * number_of_materials,\n",
    "         number_of_materials,\n",
    "         'gen0',\n",
    "         'tgen1')\n",
    "\n",
    "find_missing('tgen1')"
   ]
  },
  {
   "cell_type": "markdown",
   "metadata": {},
   "source": [
    "## Bin `tgen1`, select parents "
   ]
  },
  {
   "cell_type": "code",
   "execution_count": 4,
   "metadata": {
    "collapsed": false,
    "scrolled": true
   },
   "outputs": [],
   "source": [
    "from binning import *\n",
    "\n",
    "p_dir = 'tgen1'\n",
    "n_child = number_of_materials\n",
    "\n",
    "bin_count, bin_IDs = bin3d(p_dir, bins)\n",
    "\n",
    "p_list_tgen1 = pick_parents(p_dir,\n",
    "                           bin_count,\n",
    "                           bin_IDs,\n",
    "                           n_child)"
   ]
  },
  {
   "cell_type": "markdown",
   "metadata": {},
   "source": [
    "## `tgen1` dummy test"
   ]
  },
  {
   "cell_type": "code",
   "execution_count": 3,
   "metadata": {
    "collapsed": false,
    "scrolled": true
   },
   "outputs": [
    {
     "name": "stdout",
     "output_type": "stream",
     "text": [
      "/ihome/cwilmer/ark111/HTSOHM-dev/bin\n",
      "Screening dummies...\n",
      "See terminal for status.\n",
      "\n",
      "Jobs submitted!\n",
      "/ihome/cwilmer/ark111/HTSOHM-dev\n"
     ]
    }
   ],
   "source": [
    "%run ./bin/dummy_screen.ipy\n",
    "\n",
    "dummy_screen(HTSOHM_dir, 'tgen1')"
   ]
  },
  {
   "cell_type": "code",
   "execution_count": 2,
   "metadata": {
    "collapsed": false,
    "scrolled": true
   },
   "outputs": [
    {
     "name": "stdout",
     "output_type": "stream",
     "text": [
      "/ihome/cwilmer/ark111/HTSOHM-dev/bin\n",
      "/ihome/cwilmer/ark111/HTSOHM-dev\n"
     ]
    },
    {
     "ename": "ValueError",
     "evalue": "Some errors were detected !\n    Line #26 (got 1 columns instead of 1)\n    Line #27 (got 1 columns instead of 1)\n    Line #28 (got 1 columns instead of 1)\n    Line #29 (got 1 columns instead of 1)\n    Line #30 (got 1 columns instead of 1)\n    Line #36 (got 1 columns instead of 1)\n    Line #37 (got 1 columns instead of 1)\n    Line #38 (got 1 columns instead of 1)\n    Line #39 (got 1 columns instead of 1)\n    Line #40 (got 1 columns instead of 1)\n    Line #81 (got 1 columns instead of 1)\n    Line #82 (got 1 columns instead of 1)\n    Line #83 (got 1 columns instead of 1)\n    Line #84 (got 1 columns instead of 1)\n    Line #85 (got 1 columns instead of 1)\n    Line #91 (got 1 columns instead of 1)\n    Line #92 (got 1 columns instead of 1)\n    Line #93 (got 1 columns instead of 1)\n    Line #94 (got 1 columns instead of 1)\n    Line #95 (got 1 columns instead of 1)",
     "output_type": "error",
     "traceback": [
      "\u001b[1;31m---------------------------------------------------------------------------\u001b[0m",
      "\u001b[1;31mValueError\u001b[0m                                Traceback (most recent call last)",
      "\u001b[1;32m<ipython-input-2-c4530c12f9e0>\u001b[0m in \u001b[0;36m<module>\u001b[1;34m()\u001b[0m\n\u001b[0;32m      1\u001b[0m \u001b[0mget_ipython\u001b[0m\u001b[1;33m(\u001b[0m\u001b[1;33m)\u001b[0m\u001b[1;33m.\u001b[0m\u001b[0mmagic\u001b[0m\u001b[1;33m(\u001b[0m\u001b[1;34m'run ./bin/dummy_test.ipy'\u001b[0m\u001b[1;33m)\u001b[0m\u001b[1;33m\u001b[0m\u001b[0m\n\u001b[0;32m      2\u001b[0m \u001b[1;33m\u001b[0m\u001b[0m\n\u001b[1;32m----> 3\u001b[1;33m \u001b[0mdummy_test\u001b[0m\u001b[1;33m(\u001b[0m\u001b[0mHTSOHM_dir\u001b[0m\u001b[1;33m,\u001b[0m \u001b[1;34m'tgen1'\u001b[0m\u001b[1;33m)\u001b[0m\u001b[1;33m\u001b[0m\u001b[0m\n\u001b[0m",
      "\u001b[1;32m<ipython-input-2-f8c900250a4b>\u001b[0m in \u001b[0;36mdummy_test\u001b[1;34m(HTSOHM_dir, gen, tol)\u001b[0m\n\u001b[0;32m     12\u001b[0m \u001b[1;33m\u001b[0m\u001b[0m\n\u001b[0;32m     13\u001b[0m     \u001b[0md_cn\u001b[0m \u001b[1;33m=\u001b[0m \u001b[0mnp\u001b[0m\u001b[1;33m.\u001b[0m\u001b[0mgenfromtxt\u001b[0m\u001b[1;33m(\u001b[0m\u001b[0mgen\u001b[0m \u001b[1;33m+\u001b[0m \u001b[1;34m'/dummyCH4.txt'\u001b[0m\u001b[1;33m,\u001b[0m \u001b[0musecols\u001b[0m\u001b[1;33m=\u001b[0m\u001b[1;36m0\u001b[0m\u001b[1;33m,\u001b[0m \u001b[0mdtype\u001b[0m\u001b[1;33m=\u001b[0m\u001b[0mstr\u001b[0m\u001b[1;33m)\u001b[0m\u001b[1;33m\u001b[0m\u001b[0m\n\u001b[1;32m---> 14\u001b[1;33m     \u001b[0md_cv\u001b[0m \u001b[1;33m=\u001b[0m \u001b[0mnp\u001b[0m\u001b[1;33m.\u001b[0m\u001b[0mgenfromtxt\u001b[0m\u001b[1;33m(\u001b[0m\u001b[0mgen\u001b[0m \u001b[1;33m+\u001b[0m \u001b[1;34m'/dummyCH4.txt'\u001b[0m\u001b[1;33m,\u001b[0m \u001b[0musecols\u001b[0m\u001b[1;33m=\u001b[0m\u001b[1;36m1\u001b[0m\u001b[1;33m,\u001b[0m \u001b[0mdtype\u001b[0m\u001b[1;33m=\u001b[0m\u001b[0mfloat\u001b[0m\u001b[1;33m)\u001b[0m\u001b[1;33m\u001b[0m\u001b[0m\n\u001b[0m\u001b[0;32m     15\u001b[0m     \u001b[0md_sn\u001b[0m \u001b[1;33m=\u001b[0m \u001b[0mnp\u001b[0m\u001b[1;33m.\u001b[0m\u001b[0mgenfromtxt\u001b[0m\u001b[1;33m(\u001b[0m\u001b[0mgen\u001b[0m \u001b[1;33m+\u001b[0m \u001b[1;34m'/dummySA.txt'\u001b[0m\u001b[1;33m,\u001b[0m \u001b[0musecols\u001b[0m\u001b[1;33m=\u001b[0m\u001b[1;36m0\u001b[0m\u001b[1;33m,\u001b[0m \u001b[0mdtype\u001b[0m\u001b[1;33m=\u001b[0m\u001b[0mstr\u001b[0m\u001b[1;33m)\u001b[0m\u001b[1;33m\u001b[0m\u001b[0m\n\u001b[0;32m     16\u001b[0m     \u001b[0md_sv\u001b[0m \u001b[1;33m=\u001b[0m \u001b[0mnp\u001b[0m\u001b[1;33m.\u001b[0m\u001b[0mgenfromtxt\u001b[0m\u001b[1;33m(\u001b[0m\u001b[0mgen\u001b[0m \u001b[1;33m+\u001b[0m \u001b[1;34m'/dummySA.txt'\u001b[0m\u001b[1;33m,\u001b[0m \u001b[0musecols\u001b[0m\u001b[1;33m=\u001b[0m\u001b[1;36m1\u001b[0m\u001b[1;33m,\u001b[0m \u001b[0mdtype\u001b[0m\u001b[1;33m=\u001b[0m\u001b[0mfloat\u001b[0m\u001b[1;33m)\u001b[0m\u001b[1;33m\u001b[0m\u001b[0m\n",
      "\u001b[1;32m/ihome/cwilmer/ark111/anaconda3/lib/python3.5/site-packages/numpy/lib/npyio.py\u001b[0m in \u001b[0;36mgenfromtxt\u001b[1;34m(fname, dtype, comments, delimiter, skip_header, skip_footer, converters, missing_values, filling_values, usecols, names, excludelist, deletechars, replace_space, autostrip, case_sensitive, defaultfmt, unpack, usemask, loose, invalid_raise, max_rows)\u001b[0m\n\u001b[0;32m   1764\u001b[0m             \u001b[1;31m# Raise an exception ?\u001b[0m\u001b[1;33m\u001b[0m\u001b[1;33m\u001b[0m\u001b[0m\n\u001b[0;32m   1765\u001b[0m             \u001b[1;32mif\u001b[0m \u001b[0minvalid_raise\u001b[0m\u001b[1;33m:\u001b[0m\u001b[1;33m\u001b[0m\u001b[0m\n\u001b[1;32m-> 1766\u001b[1;33m                 \u001b[1;32mraise\u001b[0m \u001b[0mValueError\u001b[0m\u001b[1;33m(\u001b[0m\u001b[0merrmsg\u001b[0m\u001b[1;33m)\u001b[0m\u001b[1;33m\u001b[0m\u001b[0m\n\u001b[0m\u001b[0;32m   1767\u001b[0m             \u001b[1;31m# Issue a warning ?\u001b[0m\u001b[1;33m\u001b[0m\u001b[1;33m\u001b[0m\u001b[0m\n\u001b[0;32m   1768\u001b[0m             \u001b[1;32melse\u001b[0m\u001b[1;33m:\u001b[0m\u001b[1;33m\u001b[0m\u001b[0m\n",
      "\u001b[1;31mValueError\u001b[0m: Some errors were detected !\n    Line #26 (got 1 columns instead of 1)\n    Line #27 (got 1 columns instead of 1)\n    Line #28 (got 1 columns instead of 1)\n    Line #29 (got 1 columns instead of 1)\n    Line #30 (got 1 columns instead of 1)\n    Line #36 (got 1 columns instead of 1)\n    Line #37 (got 1 columns instead of 1)\n    Line #38 (got 1 columns instead of 1)\n    Line #39 (got 1 columns instead of 1)\n    Line #40 (got 1 columns instead of 1)\n    Line #81 (got 1 columns instead of 1)\n    Line #82 (got 1 columns instead of 1)\n    Line #83 (got 1 columns instead of 1)\n    Line #84 (got 1 columns instead of 1)\n    Line #85 (got 1 columns instead of 1)\n    Line #91 (got 1 columns instead of 1)\n    Line #92 (got 1 columns instead of 1)\n    Line #93 (got 1 columns instead of 1)\n    Line #94 (got 1 columns instead of 1)\n    Line #95 (got 1 columns instead of 1)"
     ]
    }
   ],
   "source": [
    "%run ./bin/dummy_test.ipy\n",
    "\n",
    "dummy_test(HTSOHM_dir, 'tgen1')"
   ]
  },
  {
   "cell_type": "markdown",
   "metadata": {},
   "source": [
    "# Second generation"
   ]
  },
  {
   "cell_type": "markdown",
   "metadata": {},
   "source": [
    "## Calculate mutation strength(s), create `gen2`"
   ]
  },
  {
   "cell_type": "code",
   "execution_count": null,
   "metadata": {
    "collapsed": false,
    "scrolled": false
   },
   "outputs": [],
   "source": [
    "from mutate import *\n",
    "\n",
    "calc_S('tgen1', bins)\n",
    "mutate('tgen1', number_of_atom_types, 'gen2')"
   ]
  },
  {
   "cell_type": "markdown",
   "metadata": {
    "collapsed": true
   },
   "source": [
    "## Screen `gen2`"
   ]
  },
  {
   "cell_type": "code",
   "execution_count": null,
   "metadata": {
    "collapsed": true
   },
   "outputs": [],
   "source": [
    "%run ./bin/screen.ipy\n",
    "\n",
    "screen(HTSOHM_dir,\n",
    "       'gen2',\n",
    "       2 * number_of_materials,\n",
    "       number_of_materials)"
   ]
  }
 ],
 "metadata": {
  "kernelspec": {
   "display_name": "Python 3",
   "language": "python",
   "name": "python3"
  },
  "language_info": {
   "codemirror_mode": {
    "name": "ipython",
    "version": 3
   },
   "file_extension": ".py",
   "mimetype": "text/x-python",
   "name": "python",
   "nbconvert_exporter": "python",
   "pygments_lexer": "ipython3",
   "version": "3.5.1"
  }
 },
 "nbformat": 4,
 "nbformat_minor": 0
}
